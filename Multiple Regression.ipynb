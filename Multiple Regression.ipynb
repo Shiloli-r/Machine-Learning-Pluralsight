{
 "cells": [
  {
   "cell_type": "markdown",
   "id": "1afefb25",
   "metadata": {},
   "source": [
    "# Multiple Regression"
   ]
  },
  {
   "cell_type": "markdown",
   "id": "adfbbf09",
   "metadata": {},
   "source": [
    "consider W0X0 + W1X1 + W2X2 + W3X3 + .... WnXn as the multiple regression equation "
   ]
  },
  {
   "cell_type": "code",
   "execution_count": 1,
   "id": "b91673e1",
   "metadata": {},
   "outputs": [],
   "source": [
    "import numpy as np\n",
    "X, Y = np.loadtxt(\"pizza.txt\", skiprows=1, unpack=True)"
   ]
  },
  {
   "cell_type": "code",
   "execution_count": 5,
   "id": "9ef9d516",
   "metadata": {},
   "outputs": [],
   "source": [
    "def predict(X, w, b):\n",
    "    return X * w + b"
   ]
  },
  {
   "cell_type": "code",
   "execution_count": 8,
   "id": "ebc9c5a7",
   "metadata": {},
   "outputs": [],
   "source": [
    "def loss(X, Y, w, b):\n",
    "    predictions = predict(X, w, b)\n",
    "    return np.average((predictions - Y) ** 2)"
   ]
  },
  {
   "cell_type": "code",
   "execution_count": 14,
   "id": "384c7a8c",
   "metadata": {},
   "outputs": [],
   "source": [
    "def gradient(X, Y, w, b):\n",
    "    \"\"\"\n",
    "    calculates the gradient of w and b using the partial derivatives of w and b with respect to Loss\n",
    "    \"\"\"\n",
    "    w_gradient = np.average(2 * X * (predict(X, w, b) - Y))\n",
    "    b_gradient = np.average(2 * (predict(X, w, b) - Y))\n",
    "    return (w_gradient, b_gradient)\n",
    "    \n",
    "    "
   ]
  },
  {
   "cell_type": "code",
   "execution_count": 23,
   "id": "a6ebce7e",
   "metadata": {},
   "outputs": [],
   "source": [
    "def train(X, Y, iterations, lr):\n",
    "    w = b = 0\n",
    "    for i in range(iterations):\n",
    "        print(\"Iteration %4d => Loss: %.6f\" % (i, loss(X, Y, w, b)))\n",
    "        \n",
    "        # calculate the gradient components\n",
    "        w_gradient, b_gradient = gradient(X, Y, w, b)\n",
    "        \n",
    "        # invert the gradient, scale (multiply by a small constant -- lr) then take a step\n",
    "        w -= w_gradient * lr\n",
    "        b -= b_gradient * lr\n",
    "    return(w, b)\n",
    "         \n",
    "        "
   ]
  },
  {
   "cell_type": "code",
   "execution_count": null,
   "id": "58dd6b17",
   "metadata": {},
   "outputs": [],
   "source": []
  }
 ],
 "metadata": {
  "kernelspec": {
   "display_name": "Python 3",
   "language": "python",
   "name": "python3"
  },
  "language_info": {
   "codemirror_mode": {
    "name": "ipython",
    "version": 3
   },
   "file_extension": ".py",
   "mimetype": "text/x-python",
   "name": "python",
   "nbconvert_exporter": "python",
   "pygments_lexer": "ipython3",
   "version": "3.8.7"
  }
 },
 "nbformat": 4,
 "nbformat_minor": 5
}
